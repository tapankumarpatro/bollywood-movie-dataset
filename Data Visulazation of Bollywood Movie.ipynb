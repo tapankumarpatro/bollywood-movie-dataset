{
 "cells": [
  {
   "cell_type": "markdown",
   "metadata": {},
   "source": [
    "# BollyWood DataSet Visualization"
   ]
  },
  {
   "cell_type": "code",
   "execution_count": 305,
   "metadata": {},
   "outputs": [],
   "source": [
    "# Can we save the time and money wasted by movie viewers on viewing flop and disaster movies? \n",
    "# Can we suggest must-watch movies to movie viewers even \n",
    "# before movies release? Can we classify upcoming movies into 1 of 9 categories even before their release?"
   ]
  },
  {
   "cell_type": "code",
   "execution_count": 306,
   "metadata": {},
   "outputs": [
    {
     "name": "stderr",
     "output_type": "stream",
     "text": [
      "/Library/Frameworks/Python.framework/Versions/3.5/lib/python3.5/importlib/_bootstrap.py:222: RuntimeWarning: numpy.dtype size changed, may indicate binary incompatibility. Expected 96, got 88\n",
      "  return f(*args, **kwds)\n"
     ]
    }
   ],
   "source": [
    "import pandas as pd\n",
    "import numpy as np\n",
    "\n",
    "from sklearn import linear_model\n",
    "from sklearn import tree\n",
    "import matplotlib.pyplot as plt\n",
    "from sklearn.feature_extraction.text import CountVectorizer\n",
    "\n"
   ]
  },
  {
   "cell_type": "code",
   "execution_count": 307,
   "metadata": {},
   "outputs": [
    {
     "data": {
      "text/html": [
       "<div>\n",
       "<style scoped>\n",
       "    .dataframe tbody tr th:only-of-type {\n",
       "        vertical-align: middle;\n",
       "    }\n",
       "\n",
       "    .dataframe tbody tr th {\n",
       "        vertical-align: top;\n",
       "    }\n",
       "\n",
       "    .dataframe thead th {\n",
       "        text-align: right;\n",
       "    }\n",
       "</style>\n",
       "<table border=\"1\" class=\"dataframe\">\n",
       "  <thead>\n",
       "    <tr style=\"text-align: right;\">\n",
       "      <th></th>\n",
       "      <th>imdbId</th>\n",
       "      <th>title</th>\n",
       "      <th>releaseYear</th>\n",
       "      <th>releaseDate</th>\n",
       "      <th>genre</th>\n",
       "      <th>writers</th>\n",
       "      <th>actors</th>\n",
       "      <th>directors</th>\n",
       "      <th>sequel</th>\n",
       "      <th>hitFlop</th>\n",
       "    </tr>\n",
       "  </thead>\n",
       "  <tbody>\n",
       "    <tr>\n",
       "      <th>0</th>\n",
       "      <td>tt0118578</td>\n",
       "      <td>Albela</td>\n",
       "      <td>2001</td>\n",
       "      <td>20 Apr 2001</td>\n",
       "      <td>Romance</td>\n",
       "      <td>Honey Irani (screenplay) | Honey Irani (story)...</td>\n",
       "      <td>Govinda | Aishwarya Rai Bachchan | Jackie Shro...</td>\n",
       "      <td>Deepak Sareen</td>\n",
       "      <td>0.0</td>\n",
       "      <td>2</td>\n",
       "    </tr>\n",
       "    <tr>\n",
       "      <th>1</th>\n",
       "      <td>tt0169102</td>\n",
       "      <td>Lagaan: Once Upon a Time in India</td>\n",
       "      <td>2001</td>\n",
       "      <td>08 May 2002</td>\n",
       "      <td>Adventure | Drama | Musical</td>\n",
       "      <td>Ashutosh Gowariker (story) | Ashutosh Gowarike...</td>\n",
       "      <td>Aamir Khan | Gracy Singh | Rachel Shelley | Pa...</td>\n",
       "      <td>Ashutosh Gowariker</td>\n",
       "      <td>0.0</td>\n",
       "      <td>6</td>\n",
       "    </tr>\n",
       "    <tr>\n",
       "      <th>2</th>\n",
       "      <td>tt0187279</td>\n",
       "      <td>Meri Biwi Ka Jawab Nahin</td>\n",
       "      <td>2004</td>\n",
       "      <td>02 Jul 2004</td>\n",
       "      <td>Action | Comedy</td>\n",
       "      <td>NaN</td>\n",
       "      <td>Akshay Kumar | Sridevi | Gulshan Grover | Laxm...</td>\n",
       "      <td>Pankaj Parashar | S.M. Iqbal</td>\n",
       "      <td>0.0</td>\n",
       "      <td>1</td>\n",
       "    </tr>\n",
       "    <tr>\n",
       "      <th>3</th>\n",
       "      <td>tt0222024</td>\n",
       "      <td>Hum Tumhare Hain Sanam</td>\n",
       "      <td>2002</td>\n",
       "      <td>24 May 2002</td>\n",
       "      <td>Drama | Romance</td>\n",
       "      <td>K.S. Adiyaman | Arun Kumar (assistant dialogue...</td>\n",
       "      <td>Shah Rukh Khan | Madhuri Dixit | Salman Khan |...</td>\n",
       "      <td>K.S. Adiyaman</td>\n",
       "      <td>0.0</td>\n",
       "      <td>4</td>\n",
       "    </tr>\n",
       "    <tr>\n",
       "      <th>4</th>\n",
       "      <td>tt0227194</td>\n",
       "      <td>One 2 Ka 4</td>\n",
       "      <td>2001</td>\n",
       "      <td>30 Mar 2001</td>\n",
       "      <td>Action | Comedy | Drama</td>\n",
       "      <td>Sanjay Chhel | Raaj Kumar Dahima (screenplay) ...</td>\n",
       "      <td>Shah Rukh Khan | Juhi Chawla | Jackie Shroff |...</td>\n",
       "      <td>Shashilal K. Nair</td>\n",
       "      <td>0.0</td>\n",
       "      <td>1</td>\n",
       "    </tr>\n",
       "  </tbody>\n",
       "</table>\n",
       "</div>"
      ],
      "text/plain": [
       "      imdbId                              title  releaseYear  releaseDate  \\\n",
       "0  tt0118578                             Albela         2001  20 Apr 2001   \n",
       "1  tt0169102  Lagaan: Once Upon a Time in India         2001  08 May 2002   \n",
       "2  tt0187279           Meri Biwi Ka Jawab Nahin         2004  02 Jul 2004   \n",
       "3  tt0222024             Hum Tumhare Hain Sanam         2002  24 May 2002   \n",
       "4  tt0227194                         One 2 Ka 4         2001  30 Mar 2001   \n",
       "\n",
       "                         genre  \\\n",
       "0                      Romance   \n",
       "1  Adventure | Drama | Musical   \n",
       "2              Action | Comedy   \n",
       "3              Drama | Romance   \n",
       "4      Action | Comedy | Drama   \n",
       "\n",
       "                                             writers  \\\n",
       "0  Honey Irani (screenplay) | Honey Irani (story)...   \n",
       "1  Ashutosh Gowariker (story) | Ashutosh Gowarike...   \n",
       "2                                                NaN   \n",
       "3  K.S. Adiyaman | Arun Kumar (assistant dialogue...   \n",
       "4  Sanjay Chhel | Raaj Kumar Dahima (screenplay) ...   \n",
       "\n",
       "                                              actors  \\\n",
       "0  Govinda | Aishwarya Rai Bachchan | Jackie Shro...   \n",
       "1  Aamir Khan | Gracy Singh | Rachel Shelley | Pa...   \n",
       "2  Akshay Kumar | Sridevi | Gulshan Grover | Laxm...   \n",
       "3  Shah Rukh Khan | Madhuri Dixit | Salman Khan |...   \n",
       "4  Shah Rukh Khan | Juhi Chawla | Jackie Shroff |...   \n",
       "\n",
       "                      directors  sequel  hitFlop  \n",
       "0                 Deepak Sareen     0.0        2  \n",
       "1            Ashutosh Gowariker     0.0        6  \n",
       "2  Pankaj Parashar | S.M. Iqbal     0.0        1  \n",
       "3                 K.S. Adiyaman     0.0        4  \n",
       "4             Shashilal K. Nair     0.0        1  "
      ]
     },
     "execution_count": 307,
     "metadata": {},
     "output_type": "execute_result"
    }
   ],
   "source": [
    "df_movie = pd.read_csv('BollywoodMovieDetail.csv')\n",
    "df_actor = pd.read_csv('BollywoodActorRanking.csv')\n",
    "df_director = pd.read_csv('BollywoodDirectorRanking.csv')\n",
    "\n",
    "\n",
    "df_movie.head()"
   ]
  },
  {
   "cell_type": "code",
   "execution_count": 308,
   "metadata": {},
   "outputs": [
    {
     "data": {
      "text/html": [
       "<div>\n",
       "<style scoped>\n",
       "    .dataframe tbody tr th:only-of-type {\n",
       "        vertical-align: middle;\n",
       "    }\n",
       "\n",
       "    .dataframe tbody tr th {\n",
       "        vertical-align: top;\n",
       "    }\n",
       "\n",
       "    .dataframe thead th {\n",
       "        text-align: right;\n",
       "    }\n",
       "</style>\n",
       "<table border=\"1\" class=\"dataframe\">\n",
       "  <thead>\n",
       "    <tr style=\"text-align: right;\">\n",
       "      <th></th>\n",
       "      <th>actorId</th>\n",
       "      <th>actorName</th>\n",
       "      <th>movieCount</th>\n",
       "      <th>ratingSum</th>\n",
       "      <th>normalizedMovieRank</th>\n",
       "      <th>googleHits</th>\n",
       "      <th>normalizedGoogleRank</th>\n",
       "      <th>normalizedRating</th>\n",
       "    </tr>\n",
       "  </thead>\n",
       "  <tbody>\n",
       "    <tr>\n",
       "      <th>0</th>\n",
       "      <td>373</td>\n",
       "      <td>Aamir Khan</td>\n",
       "      <td>11</td>\n",
       "      <td>1170</td>\n",
       "      <td>9.44862</td>\n",
       "      <td>2460000</td>\n",
       "      <td>7.34283</td>\n",
       "      <td>10.00000</td>\n",
       "    </tr>\n",
       "    <tr>\n",
       "      <th>1</th>\n",
       "      <td>374</td>\n",
       "      <td>Shah Rukh Khan</td>\n",
       "      <td>23</td>\n",
       "      <td>2000</td>\n",
       "      <td>7.55009</td>\n",
       "      <td>2670000</td>\n",
       "      <td>7.88458</td>\n",
       "      <td>9.22674</td>\n",
       "    </tr>\n",
       "    <tr>\n",
       "      <th>2</th>\n",
       "      <td>375</td>\n",
       "      <td>Salman Khan</td>\n",
       "      <td>36</td>\n",
       "      <td>2340</td>\n",
       "      <td>5.40217</td>\n",
       "      <td>3490000</td>\n",
       "      <td>10.00000</td>\n",
       "      <td>9.20821</td>\n",
       "    </tr>\n",
       "    <tr>\n",
       "      <th>3</th>\n",
       "      <td>376</td>\n",
       "      <td>Katrina Kaif</td>\n",
       "      <td>17</td>\n",
       "      <td>1640</td>\n",
       "      <td>8.48082</td>\n",
       "      <td>2120000</td>\n",
       "      <td>6.46570</td>\n",
       "      <td>8.94852</td>\n",
       "    </tr>\n",
       "    <tr>\n",
       "      <th>4</th>\n",
       "      <td>377</td>\n",
       "      <td>Deepika Padukone</td>\n",
       "      <td>16</td>\n",
       "      <td>1080</td>\n",
       "      <td>5.64674</td>\n",
       "      <td>3000000</td>\n",
       "      <td>8.73591</td>\n",
       "      <td>8.62716</td>\n",
       "    </tr>\n",
       "  </tbody>\n",
       "</table>\n",
       "</div>"
      ],
      "text/plain": [
       "   actorId         actorName  movieCount  ratingSum  normalizedMovieRank  \\\n",
       "0      373        Aamir Khan          11       1170              9.44862   \n",
       "1      374    Shah Rukh Khan          23       2000              7.55009   \n",
       "2      375       Salman Khan          36       2340              5.40217   \n",
       "3      376      Katrina Kaif          17       1640              8.48082   \n",
       "4      377  Deepika Padukone          16       1080              5.64674   \n",
       "\n",
       "   googleHits  normalizedGoogleRank  normalizedRating  \n",
       "0     2460000               7.34283          10.00000  \n",
       "1     2670000               7.88458           9.22674  \n",
       "2     3490000              10.00000           9.20821  \n",
       "3     2120000               6.46570           8.94852  \n",
       "4     3000000               8.73591           8.62716  "
      ]
     },
     "execution_count": 308,
     "metadata": {},
     "output_type": "execute_result"
    }
   ],
   "source": [
    "df_actor.head()"
   ]
  },
  {
   "cell_type": "code",
   "execution_count": 309,
   "metadata": {},
   "outputs": [
    {
     "data": {
      "text/html": [
       "<div>\n",
       "<style scoped>\n",
       "    .dataframe tbody tr th:only-of-type {\n",
       "        vertical-align: middle;\n",
       "    }\n",
       "\n",
       "    .dataframe tbody tr th {\n",
       "        vertical-align: top;\n",
       "    }\n",
       "\n",
       "    .dataframe thead th {\n",
       "        text-align: right;\n",
       "    }\n",
       "</style>\n",
       "<table border=\"1\" class=\"dataframe\">\n",
       "  <thead>\n",
       "    <tr style=\"text-align: right;\">\n",
       "      <th></th>\n",
       "      <th>directorId</th>\n",
       "      <th>directorName</th>\n",
       "      <th>movieCount</th>\n",
       "      <th>ratingSum</th>\n",
       "      <th>normalizedMovieRank</th>\n",
       "      <th>googleHits</th>\n",
       "      <th>normalizedGoogleRank</th>\n",
       "      <th>normalizedRating</th>\n",
       "    </tr>\n",
       "  </thead>\n",
       "  <tbody>\n",
       "    <tr>\n",
       "      <th>0</th>\n",
       "      <td>1</td>\n",
       "      <td>Rajkumar Hirani</td>\n",
       "      <td>3</td>\n",
       "      <td>440</td>\n",
       "      <td>10.00000</td>\n",
       "      <td>146000</td>\n",
       "      <td>2.07796</td>\n",
       "      <td>10.00000</td>\n",
       "    </tr>\n",
       "    <tr>\n",
       "      <th>1</th>\n",
       "      <td>2</td>\n",
       "      <td>Farah Khan</td>\n",
       "      <td>4</td>\n",
       "      <td>440</td>\n",
       "      <td>7.39474</td>\n",
       "      <td>1060000</td>\n",
       "      <td>8.88317</td>\n",
       "      <td>8.78473</td>\n",
       "    </tr>\n",
       "    <tr>\n",
       "      <th>2</th>\n",
       "      <td>3</td>\n",
       "      <td>Karan Johar</td>\n",
       "      <td>5</td>\n",
       "      <td>430</td>\n",
       "      <td>5.68947</td>\n",
       "      <td>1050000</td>\n",
       "      <td>8.80872</td>\n",
       "      <td>7.10460</td>\n",
       "    </tr>\n",
       "    <tr>\n",
       "      <th>3</th>\n",
       "      <td>4</td>\n",
       "      <td>Sajid Khan</td>\n",
       "      <td>4</td>\n",
       "      <td>350</td>\n",
       "      <td>5.79605</td>\n",
       "      <td>905000</td>\n",
       "      <td>7.72912</td>\n",
       "      <td>6.99780</td>\n",
       "    </tr>\n",
       "    <tr>\n",
       "      <th>4</th>\n",
       "      <td>5</td>\n",
       "      <td>Rohit Shetty</td>\n",
       "      <td>10</td>\n",
       "      <td>950</td>\n",
       "      <td>6.32895</td>\n",
       "      <td>437000</td>\n",
       "      <td>4.24461</td>\n",
       "      <td>6.83761</td>\n",
       "    </tr>\n",
       "  </tbody>\n",
       "</table>\n",
       "</div>"
      ],
      "text/plain": [
       "   directorId     directorName  movieCount  ratingSum  normalizedMovieRank  \\\n",
       "0           1  Rajkumar Hirani           3        440             10.00000   \n",
       "1           2       Farah Khan           4        440              7.39474   \n",
       "2           3      Karan Johar           5        430              5.68947   \n",
       "3           4       Sajid Khan           4        350              5.79605   \n",
       "4           5     Rohit Shetty          10        950              6.32895   \n",
       "\n",
       "   googleHits  normalizedGoogleRank  normalizedRating  \n",
       "0      146000               2.07796          10.00000  \n",
       "1     1060000               8.88317           8.78473  \n",
       "2     1050000               8.80872           7.10460  \n",
       "3      905000               7.72912           6.99780  \n",
       "4      437000               4.24461           6.83761  "
      ]
     },
     "execution_count": 309,
     "metadata": {},
     "output_type": "execute_result"
    }
   ],
   "source": [
    "df_director.head()"
   ]
  },
  {
   "cell_type": "code",
   "execution_count": 310,
   "metadata": {},
   "outputs": [
    {
     "data": {
      "text/plain": [
       "True"
      ]
     },
     "execution_count": 310,
     "metadata": {},
     "output_type": "execute_result"
    }
   ],
   "source": [
    "df_movie.isnull().values.any()"
   ]
  },
  {
   "cell_type": "code",
   "execution_count": 311,
   "metadata": {},
   "outputs": [
    {
     "data": {
      "text/plain": [
       "True"
      ]
     },
     "execution_count": 311,
     "metadata": {},
     "output_type": "execute_result"
    }
   ],
   "source": [
    "df_actor.isnull().values.any()\n"
   ]
  },
  {
   "cell_type": "code",
   "execution_count": 312,
   "metadata": {},
   "outputs": [
    {
     "data": {
      "text/plain": [
       "True"
      ]
     },
     "execution_count": 312,
     "metadata": {},
     "output_type": "execute_result"
    }
   ],
   "source": [
    "df_director.isnull().values.any()"
   ]
  },
  {
   "cell_type": "code",
   "execution_count": 313,
   "metadata": {},
   "outputs": [
    {
     "data": {
      "text/plain": [
       "imdbId           0\n",
       "title            0\n",
       "releaseYear      0\n",
       "releaseDate     53\n",
       "genre            2\n",
       "writers        119\n",
       "actors           3\n",
       "directors        4\n",
       "sequel           3\n",
       "hitFlop          0\n",
       "dtype: int64"
      ]
     },
     "execution_count": 313,
     "metadata": {},
     "output_type": "execute_result"
    }
   ],
   "source": [
    "df_movie.isnull().sum()"
   ]
  },
  {
   "cell_type": "code",
   "execution_count": 314,
   "metadata": {},
   "outputs": [
    {
     "data": {
      "text/plain": [
       "actorId                   0\n",
       "actorName                 0\n",
       "movieCount                0\n",
       "ratingSum                 0\n",
       "normalizedMovieRank       2\n",
       "googleHits                0\n",
       "normalizedGoogleRank    112\n",
       "normalizedRating          0\n",
       "dtype: int64"
      ]
     },
     "execution_count": 314,
     "metadata": {},
     "output_type": "execute_result"
    }
   ],
   "source": [
    "df_actor.isnull().sum()"
   ]
  },
  {
   "cell_type": "code",
   "execution_count": 315,
   "metadata": {},
   "outputs": [
    {
     "data": {
      "text/plain": [
       "directorId              0\n",
       "directorName            1\n",
       "movieCount              0\n",
       "ratingSum               0\n",
       "normalizedMovieRank     0\n",
       "googleHits              0\n",
       "normalizedGoogleRank    0\n",
       "normalizedRating        0\n",
       "dtype: int64"
      ]
     },
     "execution_count": 315,
     "metadata": {},
     "output_type": "execute_result"
    }
   ],
   "source": [
    "df_director.isnull().sum()"
   ]
  },
  {
   "cell_type": "code",
   "execution_count": 316,
   "metadata": {},
   "outputs": [
    {
     "data": {
      "image/png": "[encoded data removed]",
      "text/plain": [
       "<Figure size 432x288 with 4 Axes>"
      ]
     },
     "metadata": {},
     "output_type": "display_data"
    }
   ],
   "source": [
    "df_movie.hist()\n",
    "plt.show()"
   ]
  },
  {
   "cell_type": "code",
   "execution_count": 317,
   "metadata": {},
   "outputs": [
    {
     "data": {
      "image/png": "[encoded data removed]",
      "text/plain": [
       "<Figure size 432x288 with 2 Axes>"
      ]
     },
     "metadata": {},
     "output_type": "display_data"
    }
   ],
   "source": [
    "names = ['hitflop', 'releaseYear', 'sequel']\n",
    "correlations = df_movie.corr()\n",
    "# plot correlation matrix\n",
    "fig = plt.figure()\n",
    "ax = fig.add_subplot(111)\n",
    "cax = ax.matshow(correlations, vmin=-1, vmax=1)\n",
    "fig.colorbar(cax)\n",
    "ticks = np.arange(0,3,1)\n",
    "ax.set_xticks(ticks)\n",
    "ax.set_yticks(ticks)\n",
    "ax.set_xticklabels(names)\n",
    "ax.set_yticklabels(names)\n",
    "plt.show()"
   ]
  },
  {
   "cell_type": "code",
   "execution_count": 318,
   "metadata": {},
   "outputs": [
    {
     "name": "stdout",
     "output_type": "stream",
     "text": [
      "(1284, 10)\n"
     ]
    }
   ],
   "source": [
    "print(df_movie.shape)"
   ]
  },
  {
   "cell_type": "code",
   "execution_count": 319,
   "metadata": {},
   "outputs": [
    {
     "name": "stdout",
     "output_type": "stream",
     "text": [
      "['Deepak Sareen' 'Ashutosh Gowariker' 'Pankaj Parashar | S.M. Iqbal'\n",
      " 'K.S. Adiyaman' 'Shashilal K. Nair' 'Sanjay Leela Bhansali'\n",
      " 'Vikram Bhatt' 'Karan Johar' 'Arjun Sablok' 'Subhash Ghai'\n",
      " 'Shyam Benegal' 'Abbas Alibhai Burmawalla | Mastan Alibhai Burmawalla'\n",
      " 'Sooraj R. Barjatya' 'Naeem Sha' 'Madhur Bhandarkar' 'Rahul Rawail'\n",
      " 'Dev Anand' 'Raj Kanwar' 'Harry Baweja' 'Kunal Kohli' 'Kalpana Lajmi'\n",
      " 'Indra Kumar' 'Rajat Rawail' 'Kirti Kumar' 'Prakash Jha' 'David Dhawan'\n",
      " 'Aziz Sejawal' 'Daisy von Scherler Mayer' 'Rajat Mukherjee' 'Goldie Behl'\n",
      " 'Anil Sharma' 'Satish Kaushik' 'Joy Augustine' 'Eeshwar Nivas'\n",
      " 'Rajan Johri' 'Rakeysh Omprakash Mehra' 'Anubhav Sinha' 'S. Shankar'\n",
      " 'Farhan Akhtar' 'Ahathian | Sunil Kumar Agrawal' 'Deepak S. Shivdasani'\n",
      " 'Rajkumar Santoshi' 'Sanjay Gupta' 'Deepak Balraj Vij' 'Nisha Pahuja'\n",
      " 'Ram Gopal Varma' 'Sanjay Khanna' 'Priyadarshan' 'Tanuja Chandra'\n",
      " 'Gautham Menon' 'N. Maharajan' 'Ashu Trikha' 'Ashok Mehta'\n",
      " 'Mahesh Manjrekar' 'Ved Rahi' 'K. Raghavendra Rao | A.S. Ravindra Babu'\n",
      " 'Vipul Amrutlal Shah' 'Vinay Shukla' 'N. Chandra' 'Tinnu Verma'\n",
      " 'Sandesh Kohli' 'Meghna Gulzar' 'Dharmesh Darshan' 'Umesh Mehra'\n",
      " 'Pankaj Parashar' 'Naresh Malhotra' 'Ujjwal Chatterjee'\n",
      " 'K. Muralimohana Rao' 'Mehul Kumar' 'Nana Patekar' 'Mani Shankar'\n",
      " 'J.D. Chakravarthi' 'Bunty Soorma' 'Ajay Kashyap' 'Gaganvihari Borate'\n",
      " 'Dinkar Kapur' 'Shibu Mitra' 'Sanjay Gadhvi' 'Guddu Dhanoa' 'Sohail Khan'\n",
      " 'Milan Luthria' 'Rajkumar Kohli' 'Ravi Sharma Shankar' 'Sanjay Chhel'\n",
      " 'Anupam Kher' 'Akbar Khan' 'Anant Mahadevan' 'Kundan Shah'\n",
      " 'Sushen Bhatnagar' 'Kaizad Gustad' 'Sanjay Jha' 'Shaad Ali' 'Amol Shetge'\n",
      " 'Harmesh Malhotra' 'Hansal Mehta' 'Krishna Vamshi' 'Honey Irani'\n",
      " 'A. Muthu' 'Ravi Chopra' 'Talat Jani' 'Anees Bazmee' 'Tinnu Anand'\n",
      " 'Suneel Darshan' 'Ravi Dewan' 'Manoj Agrawal' 'Manoj Punj' 'Partho Ghosh'\n",
      " 'Sangeeth Sivan' 'Govind Menon' 'Ketan Mehta' 'Mohan Sharma' 'Aziz Mirza'\n",
      " 'Sujoy Ghosh' 'Nikhil Advani | Ron Reid Jr.' 'J.P. Dutta' 'Farah Khan'\n",
      " 'Chandra Prakash Dwivedi' 'Khalid Mohamed' 'Vijay K. Bhaskar'\n",
      " 'Surya S.J. | Sunil Kumar Agrawal' 'Anurag Basu | Anil V. Kumar'\n",
      " 'Amit Saxena' 'Kushan Nandy' 'Prawaal Raman' 'Samir Karnik'\n",
      " 'Sriram Raghavan' 'Ravindra Peepat' 'Pavan Kaul' 'Shyam Ramsay'\n",
      " 'Deepak Tijori' 'Anurag Kashyap' 'Gaurav Pandey' 'Ashok Honda'\n",
      " 'Padam Kumar' 'Tigmanshu Dhulia' 'Ken Ghosh' 'B.H. Tharun Kumar'\n",
      " 'Anant Balani' 'Apoorva Lakhia' 'Govind Nihalani' 'Hriday Shetty'\n",
      " 'Sudhir Mishra' 'Feroz Khan' 'Anil Kumar Sharma' 'M.F. Hussain'\n",
      " 'Deepak Bahry' 'Rajiv Rai' 'Raja Sen' 'Soumitra Ranade' 'Rohan Sippy'\n",
      " 'Yusuf Khan' 'Anurag Basu' 'Chander Sharma' 'Chandan Arora'\n",
      " 'Rajkumar Hirani' 'Ajay Phansekar' nan 'Rajat Kapoor' 'Ammtoje Mann'\n",
      " 'Puneet Sira' 'Shona Urvashi' 'Jay Prakash' 'Suneil Anand' 'Mani Ratnam'\n",
      " 'Rohit Shetty' 'Robby Grewal' 'Birendra Nath Tiwari' 'Yogesh Bharadwaj'\n",
      " 'Raman Kumar' 'Ashwini Chaudhary' 'Shivram Yadav' 'Shashanka Ghosh'\n",
      " 'Apurva Asrani | Ramanjit Juneja' 'Rajesh Kumar Singh' 'Robin Khosla'\n",
      " 'Saawan Kumar Tak' 'Kanti Shah' 'Imtiaz Punjabi' 'Kumar Jay'\n",
      " 'Raja Bundela' 'G. Krishna' 'Saurabh Shukla' 'Thampi Kannanthanam'\n",
      " 'Mohan Singh Rathor' 'Srinivas Bhashyam' 'Shimit Amin' 'Vimal Kumar'\n",
      " 'Aruna Raje' 'Prabhudheva' 'Shrey Srivastava' 'Rituparno Ghosh'\n",
      " 'Karan Razdan' 'Santram Varma'\n",
      " 'Rohit Manash | Rohit Nayyar | Manish Robin | Manish Sharma'\n",
      " 'Leena Yadav' 'Puri Jagannadh' 'Jeeva' 'Prawal Raman' 'Raj Kaushal'\n",
      " 'Shonali Bose' 'Puneet Issar' 'Raj N. Sippy' 'Soham Shah' 'Dilip Shukla'\n",
      " 'Saurab Narang' \"Nabh Kumar 'Raju'\" 'Neeraj Vora' 'Nagesh Kukunoor'\n",
      " 'Mahesh Dattani' 'Farogh Siddique' 'Yash Chopra' 'Revathy'\n",
      " 'Arindam Chowdhuri' 'Ahmed Khan' 'Rajesh Bakshi' 'Shashi Ranjan'\n",
      " 'Tanveer Khan' 'Kabir Sadanand' 'Raam Shetty' 'Kader Kashmiri'\n",
      " 'Rakesh Roshan' 'Anupam Sinha' 'Pradeep Sarkar'\n",
      " 'Siddharth Anand Kumar | Ankur Tewari' 'K. Subhash' 'Ajay Chandhok'\n",
      " 'Gautam Adhikari' 'K. Ravi Shankar' 'Romesh Sharma' 'Himanshu Brahmbhatt'\n",
      " 'Shripal Morakhia' 'Anil Devgan' 'Sanjay F. Gupta' 'Sharad Sharan'\n",
      " 'Jay Prakash | Surya Prakash' 'Vinod Pande' 'Radhika Rao | Vinay Sapru'\n",
      " 'Jijy Philip' 'Amol Palekar' 'Imtiaz Ali' 'Mohit Suri' 'Ishaan Trivedi'\n",
      " 'Samar Khan' 'Abhishek Kapoor' 'Siddharth Anand' 'Vikram Chopra'\n",
      " 'Shirish Kunder' 'Antara Mali | Satchit Puranik' 'Soni Razdan'\n",
      " 'Feroz Abbas Khan' 'Prabhakar Shukla' 'Vidhu Vinod Chopra' 'Suparn Verma'\n",
      " 'Ruchi Narain' 'Indra Kumar | Kookie V. Gulati' 'Sunil Tiwari'\n",
      " 'Priyadarshan | Kookie V. Gulati' 'T.L.V. Prasad' 'Shabah Shamsi'\n",
      " 'Dibakar Banerjee' 'Junaid Memon' 'Rajiv Babbar' 'Naseeruddin Shah'\n",
      " 'Abbas Tyrewala' 'Shoojit Sircar' 'John Mathew Matthan' 'Rumi Jaffery'\n",
      " 'Sanjay Dayma' 'Aditya Datt' 'Adarsh Jain' 'Kabeer Kaushik'\n",
      " 'Deepak Ramsay' 'Harinam Singh' 'Saket Chaudhary' 'M.I. Raj' 'Irfan Khan'\n",
      " 'Manish R. Khandelwal' 'Pradeep Maini' 'Nikhil Advani' 'Manish Sharma'\n",
      " 'Chander Mishra' 'Sharique Minhaj' 'Vishal Bhardwaj'\n",
      " 'V.G. Samant | Milind Ukey' 'Partho Mitra' 'Marlon Rodrigues'\n",
      " 'Vicky Tejwani' 'Jitendra Chawda' 'Vicky Ranawat' 'Iqbal Raj'\n",
      " 'Kumar Dave' 'Kamika Verma | Kanika Verma' 'Sumbul Gazi' 'Kabir Khan'\n",
      " 'Sajid Khan' 'Reema Kagti' 'Sachin Bajaj' 'V. Menon' 'Suresh Krishna'\n",
      " 'Jasmeet Dhodhi | Meghna Gulzar | Sanjay Gupta | Apoorva Lakhia | Hansal Mehta | Rohit Roy'\n",
      " 'Dinesh D. Awasthi' 'Pramod Mandloi' 'Shivam Nair' 'Ajai Sinha'\n",
      " 'Hasnain Hyderabadwala | Raksha Mistry' 'Afzal Ahmad' 'Ravi Kumar'\n",
      " 'Dilip Shankar' 'Vishram Sawant' 'Rajnish Thakur' 'Vijay Sadanah'\n",
      " 'Vivek b Agrawal' 'Harryy W. Fernaandes' 'Daniel Adams' 'Zoya Akhtar'\n",
      " 'Lovely Singh' 'Romilla Mukherjee' 'Anurag Singh' 'Navdeep Singh'\n",
      " 'Sanjay Bhatia' 'Imran Khan' 'R. Balki' 'Aku Akbar' 'Anil Mehta'\n",
      " 'Aamir Khan | Amole Gupte' 'Hemant Madhukar' 'R. Anand Kumar'\n",
      " 'Ravi Sinha' 'Vivek Sharma' 'Sanjay M. Khanduri' 'Vijay Krishna Acharya'\n",
      " 'Prashant Chadha' 'Sagar Ballary' 'Ajay Phansekar | Raam Shetty'\n",
      " 'Kittu Saluja' 'Chandrakant Kulkarni' 'Ajay Devgn' 'Jugal Hansraj'\n",
      " 'Indrajit Singh' 'Rajiv S. Ruia' 'Ramanjit Juneja | Tony' 'Raj Pendurkar'\n",
      " 'Atul Agnihotri' 'Pooja Bhatt' 'Abhik Bhanu' 'Manish Tiwary'\n",
      " 'Rakesh Parmaar' 'Sisir Misra' 'Vivek Agnihotri' 'Sudipto Chattopadhyay'\n",
      " 'Ganesh Acharya' 'Manoj Tyagi' 'Kunal Shivdasani' 'Sachin Kamlakar Khot'\n",
      " 'Dheeraj Kumar' 'Chandrakant Singh' 'Sabir Khan' 'A.R. Murugadoss'\n",
      " 'Sachin Yardi' 'Ajit Pal Mangat' 'Prem Soni' 'K. Shankar' 'Ashwani Dhir'\n",
      " 'Paritosh Painter' 'Rohit Jugraj' 'Mudassar Aziz' 'Jaideep Sen'\n",
      " 'Aditya Chopra' 'Manish Gupta' 'Tarun Mansukhani' \"Renzil D'Silva\"\n",
      " 'Kireet Khurana' 'Manoj Tiwari' 'Milap Zaveri' 'Milind Ukey'\n",
      " 'Kaushik Ghatak' 'Varun Khanna' 'Ajay Kumar' 'Raja Menon'\n",
      " 'Kunal Deshmukh' 'Ashok Gupta | Mukul Dutt' 'Kunaal Roy Kapur'\n",
      " 'Anil Senior' 'Arindam Nandy' 'Saurabh Kabra'\n",
      " 'Jahnu Barua | Rahul Dholakia | Rituparno Ghosh | Shashanka Ghosh | Manish Jha | Anurag Kashyap | Sudhir Mishra | Ruchi Narain | Ayush Raina | Revathy | Kundan Shah'\n",
      " \"Anthony D'Souza\" 'Rajatesh Nayyar' 'Hridesh Kamble'\n",
      " 'Tabrez Hashmi | Afzal Khan' 'V.K. Prakash' 'Sunil Agnihotri'\n",
      " 'Raj Kumar Gupta' 'Jennifer Chambers Lynch' 'Rajesh Ram Singh'\n",
      " 'Rohit Nayyar' 'Pankaj Advani' 'Rajesh Bajaj | Lucky Kohli'\n",
      " 'Inayat Mahshar' 'Sohail Tatari' 'Nishikant Kamat' 'Aanand Rai'\n",
      " 'Piyush Jha' 'Hadi Abrar' 'Neeraj Pandey' 'Sanjay Puransingh Chauhan'\n",
      " 'Shashant Shah' 'Madhureeta Anand' 'Faruk Kabir' 'Rahul Dholakia'\n",
      " 'Jaideep Varma' 'Arjun Bali' 'Ayan Mukherjee' 'Onir' 'Kompin Kemgumnird'\n",
      " 'Rajesh Ganguly' 'Abhishek Chaubey' 'Jag Mundhra'\n",
      " 'Krishna D.K. | Raj Nidimoru' 'Rakesh Sawant' 'Jehangir Surti'\n",
      " 'Neeraj Pathak' 'Vijay Lalwani' 'Vikram K. Kumar' 'Vishal Pandya'\n",
      " 'Umesh Shukla' 'Pryas Gupta' 'Parvati Balagopalan' 'Tariq Khan'\n",
      " 'Siddharth Malhotra' 'Mazhar Kamran' 'Kiran Rao' 'Rajeev Kumar'\n",
      " 'Zaigham Ali Syed' 'Ashim S. Samanta' 'Anusha Rizvi | Mahmood Farooqui'\n",
      " 'Kookie V. Gulati' 'Rajeev Nath' 'Jaiveer' 'Amit Rai' 'Indrajit Nattooji'\n",
      " 'Girish Girija Joshi' 'Arup Dutta' 'Swapna Joshi' 'Masud Mirza'\n",
      " 'Rajshree Ojha' 'Raaghav Dar' 'Glen Barreto' 'Aarif Sheikh'\n",
      " 'Jairaj Padmanabhan' 'Mahesh Nair' 'Danish Aslam' 'Nasir Shaikh'\n",
      " 'Ravi Kapoor' 'Viji P. Nair' 'Parmeet Sethi' 'Kedar Shinde'\n",
      " 'Satyajit Bhatkal' 'Deepak Kumar Bandhu' 'Dhavala Satyam' 'P. Som Shekar'\n",
      " 'Ashok Kheny' 'Maneesh Sharma' 'Rajesh Ranshinge' 'Ajay Ojha'\n",
      " 'Milind Gadagkar' 'Sunanda Mitra' 'Aparna Sen' 'Sunil Pal'\n",
      " 'Abhinav Kashyap' 'Rahul Aggarwal' 'Raja Unnithan' 'Pankaj Kapur'\n",
      " 'Abhishek Sharma' 'Arshad Khan' 'Parvin Dabas' 'Y.P. Singh'\n",
      " 'Sartaj Singh Pannu' 'Jyotin Goel' 'Himanshu Bhatt' 'Manoj Sharma'\n",
      " 'Vikramaditya Motwane' 'Ashok Nanda' 'Pravesh Bhardwaj' 'Akshay Shere'\n",
      " 'Rajeev Virani' 'Alankrita Shrivastava' 'Remo' 'Ankush Bhatt'\n",
      " 'Punit Malhotra' 'Bela Negi' 'Sonali Gulati' 'Deepa Sahi' 'Shakun Batra'\n",
      " 'Habib Faisal' 'Siddique' 'Aatish Kapadia' 'Sachin P. Karande'\n",
      " 'Suneet Arora' 'Yunus Sajawal' 'Ajay Varma' 'Ali Abbas Zafar'\n",
      " 'Sanjay Sharma' 'Chetan Desai' 'Anup Das' 'Abhinay Deo' 'Subhash Kapoor'\n",
      " 'Makrand Deshpande' 'Rafeeq Ellias' 'Vidhi Kasliwal' 'Bedabrata Pain'\n",
      " 'Yogesh Mittal' 'Manan Katohora' 'Wilson Louis' 'Srikanth Velagaleti'\n",
      " 'Shankhadeep' 'Vinod Mukhi' 'Vishal Aryan Singh' 'Bejoy Nambiar'\n",
      " 'Vikas Bahl | Nitesh Tiwari' 'Aron Govil' 'Karan Malhotra'\n",
      " 'Ashfaque Makrani' 'Mrigdeep Singh Lamba' 'Sahil Sangha'\n",
      " 'Vineet Khetrapal' 'Pawan Kripalani' 'Jain Rakesh' 'Vikram Pradhan'\n",
      " 'Musavir Jaleel | Aman Mihani' 'Sanjay Goel' 'Gorky' 'Swaroop Kanchi'\n",
      " 'Nitin Mahadar' 'G. Venugopal' 'Tarique Khan | Sahil Seth' 'Bumpy'\n",
      " 'K.C. Bokadia' 'David Atkins' 'Luv Ranjan' 'Abhinay Deo | Akshat Verma'\n",
      " 'Mohan Savalkar' 'Roshan Abbas' 'Savin Tuscano' 'Neerav Ghosh'\n",
      " 'Shukla Barnali Ray' 'Rahat Kazmi' 'Maneej Premnath' 'Rajpal Yadav'\n",
      " 'Hema Malini' 'Sunny Bhambhani' 'Amy Thanawala' 'Rajiv Mehra'\n",
      " 'Rakesh Ranjan Kumar' 'Rohit Dhawan' 'Ujjwal Singh' 'Ramesh Khatkar'\n",
      " 'Rupali Guha' 'Shashi Sudigala' 'S.P. Muneshwar' 'Sanjivan Lal'\n",
      " 'Girish Dhamija' 'Sanjay Soorkar' 'Lalit Marathe' 'Vicky Bhardwaj'\n",
      " 'Milind Swamy' 'Sachin' 'Nupur Asthana' 'Manikya Raju'\n",
      " 'Vijay Raaz | Karan Arora' 'Kapil Sharma' 'Anu Menon' 'Hemant Prabhu'\n",
      " 'Susi Ganesan' 'Pammi Somal' 'Praveen Kumar' 'Shubh' 'Arbaaz Khan'\n",
      " 'Pawan Gill' 'Rajesh Mapuskar' 'Mandeep Kumar' 'Maqbool Khan'\n",
      " 'Devang Dholakia' 'Shree Narayan Singh' 'Ashish R. Mohan' 'Homi Adajania'\n",
      " 'Puja Bedi' 'Gauri Shinde' 'Manav Kaul' 'Prateek Chakravorty'\n",
      " 'Sameer Sharma' 'Arshad Yusuf Pathan' 'Bela Segal' 'Sanjeev Reddy'\n",
      " 'Anand Balraj' 'Saad Khan' 'Pradeep Kumawat'\n",
      " 'Dharam Prakash | Shakur Sir' 'Debaloy Dey' 'Ranjan Shandilya'\n",
      " 'Adeeb Rais' 'Bhushan Patel' 'Shuja Ali' 'Avinash Kumar Singh'\n",
      " 'Amit Khanna' 'Aziz Naser' 'Sanjiv Jaiswal' 'R.D. Mallik'\n",
      " 'Manish Manikpuri' 'Harish Sharma' 'Vishal Mahadkar' 'Vickrant Mahajan'\n",
      " 'Sanjay Amar' 'Sachin Kundalkar' 'Shamin Desai' 'Jagdish Rajpurohit'\n",
      " 'Ashok Tyagi' 'Manish Vatsalya' 'Gaurav Panjwani' 'Ramesh Modi'\n",
      " 'Kushal Ruia' 'Suryaveer Singh Bhullar' 'Aditya Om' 'Vikram Veturi'\n",
      " 'Ashima Chibber' 'Rakesh Mehta' 'Rajesh. K.' 'Pramod Joshi'\n",
      " 'Akashaditya Lama' 'Supavitra Babul' 'Ritesh Batra' 'Sundeep Malani'\n",
      " 'Manjeet Singh' 'Sanjay Tripathy' 'Pritish Chakraborty'\n",
      " 'Sajid Nadiadwala' 'Abhishek Varman' 'Allyson Patel | Yash Dave'\n",
      " 'Nila Madhab Panda' 'Mahesh Kodiyal' 'Ashish R. Shukla' 'Parimal Aloke'\n",
      " 'Arnab Chaudhuri' 'Sheershak Anand | Shantanu Ray Chhibber' 'Ajay Yadav'\n",
      " 'Kannan Iyer' 'Amrit Sagar' 'Vishesh Bhatt' 'Zaid Ali Khan'\n",
      " 'Vishwas Patil' 'Jaideep Chopra' 'Ashok Kohli' 'Soumik Sen'\n",
      " 'Nitin Raghunath' 'Shammi Chhabra' 'Arshad Khan | Arshad Khan'\n",
      " 'Vinnil Markan' 'Priya Krishnaswamy' 'Luke Kenny | Devaki Singh'\n",
      " 'Amit Masurkar' 'Ahishor Solomon' 'Shailesh Verma' 'Saurabh Varma'\n",
      " 'Zoya Akhtar | Dibakar Banerjee | Karan Johar | Anurag Kashyap'\n",
      " 'Rajiv Chilaka' 'Atul Sabharwal' 'Sonam Nair' 'Rajesh Bachchani'\n",
      " 'Anshul Sharma' 'K.S. Ravikumar' 'Charudutt Acharya' 'Samir Tewari'\n",
      " 'Sachin Gupta' 'Devika Bhagat' 'Raj Purohit' 'Farhad | Sajid'\n",
      " 'Aman Sachdeva' 'Omung Kumar' 'Shekhar Ghosh' 'Manish Harishankar'\n",
      " 'Zubair Khan' 'Kumar Raj' 'Sandeep A. Varma' 'Gurmeett Singh'\n",
      " 'C. Jenner Jose' 'Abhishek Bindal' 'Adi Irani | Shiva Rindan'\n",
      " 'Vinil Matthew' 'Ayush Raina' 'Amjad Khan' 'Marukh Mirza Beig'\n",
      " 'Neeraj Ghaywan | Siddharth Gupt | Rohit Pandey | Anirban Roy | Shlok Sharma'\n",
      " 'Sai Kabir' 'Hasnain Hyderabadwala' 'Vats Amit' 'Vikas Bahl'\n",
      " 'Shekhar Suman' 'Gurmmeet Singh' 'Samar Shaikh' 'Mrityunjay Devvrat'\n",
      " 'Divya Khosla' 'Amaan Khan' 'Rajesh Pandey' 'Umesh Bist'\n",
      " 'Ajit P. Bhairavkar' 'Varun Middha' 'Amole Gupte' 'Syed Ahmed Afzal'\n",
      " 'Janaki Vishwanathan' 'Kesar Matharu' 'Nitesh Tiwari'\n",
      " 'Sanamjit Singh Talwar' 'Prakash Saini' 'Sabir' 'Mahesh Vaijnath Doijode'\n",
      " 'Ramesh Rout' 'Shashank Khaitan' 'Tanushri Chattrji Bassu' 'Arif Ali'\n",
      " 'Chandersen Singh' 'Akshay Akkineni' 'Saahil Prem' 'Ajay Bhuyan'\n",
      " 'Ravindra Gautam' 'Anand Kumar' 'Manoj Amarnani' 'V.K. Singh'\n",
      " 'Satish Rajwade' 'Bhabhani Prasad'\n",
      " 'Aarti S. Bagdi | Amrit Raj Gupta | Krishan Hooda | Shishir Jha | Atanu Mukherjee | Rukshana Tabassum | Ankit Tripathi | Palash Vaswani'\n",
      " 'Jitendra Pawar' 'Rohit Malhotra | Anubhav Sinha']\n"
     ]
    }
   ],
   "source": [
    "print(df_movie['directors'].unique())"
   ]
  },
  {
   "cell_type": "code",
   "execution_count": 320,
   "metadata": {},
   "outputs": [
    {
     "name": "stdout",
     "output_type": "stream",
     "text": [
      "directors\n",
      "A. Muthu                                                                                                                                   1\n",
      "A.R. Murugadoss                                                                                                                            2\n",
      "Aamir Khan | Amole Gupte                                                                                                                   1\n",
      "Aanand Rai                                                                                                                                 3\n",
      "Aarif Sheikh                                                                                                                               1\n",
      "Aarti S. Bagdi | Amrit Raj Gupta | Krishan Hooda | Shishir Jha | Atanu Mukherjee | Rukshana Tabassum | Ankit Tripathi | Palash Vaswani     1\n",
      "Aatish Kapadia                                                                                                                             1\n",
      "Abbas Alibhai Burmawalla | Mastan Alibhai Burmawalla                                                                                      10\n",
      "Abbas Tyrewala                                                                                                                             1\n",
      "Abhik Bhanu                                                                                                                                1\n",
      "Abhinav Kashyap                                                                                                                            2\n",
      "Abhinay Deo                                                                                                                                1\n",
      "Abhinay Deo | Akshat Verma                                                                                                                 1\n",
      "Abhishek Bindal                                                                                                                            1\n",
      "Abhishek Chaubey                                                                                                                           2\n",
      "Abhishek Kapoor                                                                                                                            3\n",
      "Abhishek Sharma                                                                                                                            2\n",
      "Abhishek Varman                                                                                                                            1\n",
      "Adarsh Jain                                                                                                                                1\n",
      "Adeeb Rais                                                                                                                                 1\n",
      "Adi Irani | Shiva Rindan                                                                                                                   1\n",
      "Aditya Chopra                                                                                                                              1\n",
      "Aditya Datt                                                                                                                                4\n",
      "Aditya Om                                                                                                                                  1\n",
      "Afzal Ahmad                                                                                                                                1\n",
      "Ahathian | Sunil Kumar Agrawal                                                                                                             1\n",
      "Ahishor Solomon                                                                                                                            1\n",
      "Ahmed Khan                                                                                                                                 2\n",
      "Ajai Sinha                                                                                                                                 3\n",
      "Ajay Bhuyan                                                                                                                                1\n",
      "                                                                                                                                          ..\n",
      "Vimal Kumar                                                                                                                                1\n",
      "Vinay Shukla                                                                                                                               2\n",
      "Vineet Khetrapal                                                                                                                           1\n",
      "Vinil Matthew                                                                                                                              1\n",
      "Vinnil Markan                                                                                                                              1\n",
      "Vinod Mukhi                                                                                                                                1\n",
      "Vinod Pande                                                                                                                                2\n",
      "Vipul Amrutlal Shah                                                                                                                        5\n",
      "Vishal Aryan Singh                                                                                                                         1\n",
      "Vishal Bhardwaj                                                                                                                            5\n",
      "Vishal Mahadkar                                                                                                                            2\n",
      "Vishal Pandya                                                                                                                              2\n",
      "Vishesh Bhatt                                                                                                                              1\n",
      "Vishram Sawant                                                                                                                             1\n",
      "Vishwas Patil                                                                                                                              1\n",
      "Vivek Agnihotri                                                                                                                            2\n",
      "Vivek Sharma                                                                                                                               2\n",
      "Vivek b Agrawal                                                                                                                            1\n",
      "Wilson Louis                                                                                                                               2\n",
      "Y.P. Singh                                                                                                                                 1\n",
      "Yash Chopra                                                                                                                                2\n",
      "Yogesh Bharadwaj                                                                                                                           2\n",
      "Yogesh Mittal                                                                                                                              1\n",
      "Yunus Sajawal                                                                                                                              1\n",
      "Yusuf Khan                                                                                                                                 1\n",
      "Zaid Ali Khan                                                                                                                              1\n",
      "Zaigham Ali Syed                                                                                                                           1\n",
      "Zoya Akhtar                                                                                                                                2\n",
      "Zoya Akhtar | Dibakar Banerjee | Karan Johar | Anurag Kashyap                                                                              1\n",
      "Zubair Khan                                                                                                                                1\n",
      "Length: 731, dtype: int64\n"
     ]
    }
   ],
   "source": [
    "print(df_movie.groupby('directors').size())"
   ]
  },
  {
   "cell_type": "code",
   "execution_count": 321,
   "metadata": {},
   "outputs": [
    {
     "data": {
      "image/png": "[encoded data removed]",
      "text/plain": [
       "<Figure size 432x288 with 9 Axes>"
      ]
     },
     "metadata": {},
     "output_type": "display_data"
    }
   ],
   "source": [
    "df_movie.plot(kind='box', subplots=True, layout=(3,3), sharex=False, sharey=False)\n",
    "plt.show()"
   ]
  },
  {
   "cell_type": "code",
   "execution_count": 333,
   "metadata": {},
   "outputs": [
    {
     "name": "stdout",
     "output_type": "stream",
     "text": [
      "(731, 977)\n"
     ]
    },
    {
     "data": {
      "text/plain": [
       "array([[0, 0, 0, ..., 0, 0, 0],\n",
       "       [0, 0, 0, ..., 0, 0, 0],\n",
       "       [1, 0, 0, ..., 0, 0, 0],\n",
       "       ...,\n",
       "       [0, 0, 0, ..., 0, 1, 0],\n",
       "       [0, 0, 0, ..., 0, 1, 0],\n",
       "       [0, 0, 0, ..., 0, 0, 1]], dtype=int64)"
      ]
     },
     "execution_count": 333,
     "metadata": {},
     "output_type": "execute_result"
    }
   ],
   "source": [
    "# directors = df['directors']\n",
    "directors = df_movie.groupby('directors')\n",
    "# directors\n",
    "\n",
    "\n",
    "vectorizer = CountVectorizer(min_df=1)\n",
    "\n",
    "X = vectorizer.fit_transform(list(zip(*directors))[0]).toarray()\n",
    "\n",
    "\n",
    "print(X.shape)\n",
    "X\n",
    "\n",
    "\n",
    "# # #SGDClassifier\n",
    "# clf = linear_model.SGDClassifier()\n",
    "\n",
    "# # df = df.fillna(lambda x: x.median()).astype(np.float)\n",
    "# df_movie.fillna(df_movie['sequel'].median(), inplace=True)\n",
    "\n",
    "\n",
    "# # feature_names = ['releaseYear', 'sequel']\n",
    "# X = df['releaseYear']\n",
    "# Y = df['hitFlop']\n",
    "\n",
    "\n",
    "\n",
    "# # X = df['']\n",
    "# # y = df['hitflop']\n",
    "\n",
    "\n",
    "# clf.fit(X, Y)\n",
    "# # clf.fit(X.as_matrix().astype(np.float), Y.as_matrix().astype(np.float))\n",
    "\n",
    "\n",
    "# # clf.predict(X)\n",
    "\n",
    "# # df_movie['sequel'].isnull().values.any()\n",
    "# # df_movie['sequel']\n",
    "# # df_movie['sequel'].isnull().sum()"
   ]
  },
  {
   "cell_type": "code",
   "execution_count": 335,
   "metadata": {},
   "outputs": [
    {
     "data": {
      "text/plain": [
       "['aamir',\n",
       " 'aanand',\n",
       " 'aarif',\n",
       " 'aarti',\n",
       " 'aatish',\n",
       " 'abbas',\n",
       " 'abhik',\n",
       " 'abhinav',\n",
       " 'abhinay',\n",
       " 'abhishek',\n",
       " 'abrar',\n",
       " 'acharya',\n",
       " 'adajania',\n",
       " 'adams',\n",
       " 'adarsh',\n",
       " 'adeeb',\n",
       " 'adhikari',\n",
       " 'adi',\n",
       " 'aditya',\n",
       " 'adiyaman',\n",
       " 'advani',\n",
       " 'afzal',\n",
       " 'aggarwal',\n",
       " 'agnihotri',\n",
       " 'agrawal']"
      ]
     },
     "execution_count": 335,
     "metadata": {},
     "output_type": "execute_result"
    }
   ],
   "source": [
    "vectorizer.get_feature_names()[:25]"
   ]
  },
  {
   "cell_type": "code",
   "execution_count": 337,
   "metadata": {},
   "outputs": [
    {
     "data": {
      "text/plain": [
       "1      6\n",
       "188    2\n",
       "354    5\n",
       "666    1\n",
       "839    1\n",
       "Name: hitFlop, dtype: int64"
      ]
     },
     "execution_count": 337,
     "metadata": {},
     "output_type": "execute_result"
    }
   ],
   "source": [
    "df['hitFlop'][df['directors'] == 'Ashutosh Gowariker']\n"
   ]
  }
 ],
 "metadata": {
  "kernelspec": {
   "display_name": "Python 3",
   "language": "python",
   "name": "python3"
  },
  "language_info": {
   "codemirror_mode": {
    "name": "ipython",
    "version": 3
   },
   "file_extension": ".py",
   "mimetype": "text/x-python",
   "name": "python",
   "nbconvert_exporter": "python",
   "pygments_lexer": "ipython3",
   "version": "3.6.6"
  }
 },
 "nbformat": 4,
 "nbformat_minor": 2
}
